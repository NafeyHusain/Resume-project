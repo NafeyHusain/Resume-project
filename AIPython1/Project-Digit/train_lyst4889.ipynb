{
 "cells": [
  {
   "cell_type": "code",
   "execution_count": null,
   "metadata": {},
   "outputs": [],
   "source": [
    "import cv2\n",
    "import numpy as np\n",
    "import sys\n",
    "\n",
    "im=cv2.imread('train.png')\n",
    "im3= im.copy()\n",
    "gray=cv2.cvtColor(im,cv2.COLOR_BGR2GRAY)\n",
    "blur=cv2.GaussianBlur(gray,(5,5),0)\n",
    "thresh= cv2.adaptiveThreshold(blur,255,1,1,11,2)\n",
    "\n",
    "contours, hierarchy=cv2.findContours(thresh,cv2.RETR_LIST,cv2.CHAIN_APPROX_SIMPLE)\n",
    "\n",
    "samples=np.empty((0,100),np.float32)\n",
    "responses=[]\n",
    "\n",
    "keys=[i for i in range(48,58)]\n",
    "\n",
    "for cnt in contours:\n",
    "\n",
    "    if cv2.contourArea(cnt)>50:\n",
    "        [x,y,w,h]=cv2.boundingRect(cnt)\n",
    "\n",
    "        if h>28:\n",
    "\n",
    "            cv2.rectangle(im,(x,y),(x+w,y+h),(0,0,255),2)\n",
    "            roi= thresh[y:y+h,x:x+w]\n",
    "            roismall=cv2.resize(roi,(10,10))\n",
    "            cv2.imshow('norm',im)\n",
    "            key=cv2.waitKey(0)\n",
    "            \n",
    "\n",
    "            if key==27:\n",
    "                sys.exit()\n",
    "            elif key in keys:\n",
    "                responses.append(int(chr(key)))\n",
    "                sample=roismall.reshape((1,100))\n",
    "                samples=np.append(samples,sample,0)\n",
    "\n",
    "responses= np.array(responses, np.float32)\n",
    "responses= responses.reshape((responses.size,1))\n",
    "print(\"training complete\")\n",
    "\n",
    "samples=np.float32(samples)\n",
    "responses=np.float32(responses)\n",
    "\n",
    "cv2.imwrite(\"train_result.png\",im)\n",
    "np.savetxt('generalsamples.data',samples)\n",
    "np.savetxt('generalresponses.data',responses)\n"
   ]
  }
 ],
 "metadata": {
  "kernelspec": {
   "display_name": "Python 3",
   "language": "python",
   "name": "python3"
  },
  "language_info": {
   "codemirror_mode": {
    "name": "ipython",
    "version": 3
   },
   "file_extension": ".py",
   "mimetype": "text/x-python",
   "name": "python",
   "nbconvert_exporter": "python",
   "pygments_lexer": "ipython3",
   "version": "3.8.5"
  }
 },
 "nbformat": 4,
 "nbformat_minor": 4
}
