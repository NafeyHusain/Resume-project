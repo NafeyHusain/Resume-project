{
 "cells": [
  {
   "cell_type": "code",
   "execution_count": 1,
   "metadata": {},
   "outputs": [
    {
     "name": "stdout",
     "output_type": "stream",
     "text": [
      "BANANA\n",
      "Stuart 12\n"
     ]
    }
   ],
   "source": [
    "def minion_game(string):\n",
    "    vowels = {'A','E','I','O','U'}\n",
    "    kevin = 0\n",
    "    stuart = 0\n",
    "    for i in range(len(string)):\n",
    "        if string[i] in vowels:\n",
    "            kevin += len(string) - i\n",
    "        else:\n",
    "            stuart += len(string) - i\n",
    "    if kevin == stuart:\n",
    "        print(\"Draw\")\n",
    "    elif kevin > stuart:\n",
    "        print(\"Kevin \" + str(kevin))\n",
    "    else:\n",
    "        print(\"Stuart \" + str(stuart))\n",
    "\n",
    "\n",
    "\n",
    "\n",
    "\n",
    "s = input()\n",
    "minion_game(s)"
   ]
  },
  {
   "cell_type": "code",
   "execution_count": null,
   "metadata": {},
   "outputs": [],
   "source": []
  }
 ],
 "metadata": {
  "kernelspec": {
   "display_name": "Python 3",
   "language": "python",
   "name": "python3"
  },
  "language_info": {
   "codemirror_mode": {
    "name": "ipython",
    "version": 3
   },
   "file_extension": ".py",
   "mimetype": "text/x-python",
   "name": "python",
   "nbconvert_exporter": "python",
   "pygments_lexer": "ipython3",
   "version": "3.8.5"
  }
 },
 "nbformat": 4,
 "nbformat_minor": 4
}
