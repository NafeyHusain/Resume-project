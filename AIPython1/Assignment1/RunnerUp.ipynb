{
 "cells": [
  {
   "cell_type": "code",
   "execution_count": 6,
   "metadata": {},
   "outputs": [
    {
     "name": "stdout",
     "output_type": "stream",
     "text": [
      "6\n",
      "1 2 3 4 5 6\n",
      "5\n"
     ]
    }
   ],
   "source": [
    "n = int(input())\n",
    "arr = (int, input().split())\n",
    "\n",
    "\n",
    "arrlist = [] \n",
    "\n",
    "for t in arr: \n",
    "    arrlist.append(t) \n",
    "num=arrlist[1]\n",
    "\n",
    "test_list = [int(i) for i in num]\n",
    "test_sorted= (sorted(test_list, reverse=True))\n",
    "List = []\n",
    "for i in test_sorted:\n",
    "    if i != max(test_sorted):\n",
    "        List.append(i)\n",
    "\n",
    "print(max(List))"
   ]
  },
  {
   "cell_type": "code",
   "execution_count": null,
   "metadata": {},
   "outputs": [],
   "source": []
  }
 ],
 "metadata": {
  "kernelspec": {
   "display_name": "Python 3",
   "language": "python",
   "name": "python3"
  },
  "language_info": {
   "codemirror_mode": {
    "name": "ipython",
    "version": 3
   },
   "file_extension": ".py",
   "mimetype": "text/x-python",
   "name": "python",
   "nbconvert_exporter": "python",
   "pygments_lexer": "ipython3",
   "version": "3.8.5"
  }
 },
 "nbformat": 4,
 "nbformat_minor": 4
}
