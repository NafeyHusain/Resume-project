{
 "cells": [
  {
   "cell_type": "code",
   "execution_count": 7,
   "metadata": {},
   "outputs": [
    {
     "name": "stdout",
     "output_type": "stream",
     "text": [
      "5\n",
      "harry\n",
      "37.21\n",
      "berry\n",
      "37.21\n",
      "tina\n",
      "37.2\n",
      "akhrithi\n",
      "41\n",
      "harsh\n",
      "39\n",
      "berry\n",
      "harry\n"
     ]
    }
   ],
   "source": [
    "listoflist = []\n",
    "for i in range(int(input())):\n",
    "    name = input()\n",
    "    score = float(input())\n",
    "    nameScore = list((score, name))\n",
    "    listoflist.append(nameScore)\n",
    "\n",
    "listoflist.sort()\n",
    "min_mark = listoflist[0][0]\n",
    "count = 0\n",
    "for i in range(len(listoflist)):\n",
    "    if min_mark == listoflist[i][0]:\n",
    "        count = count+1\n",
    "if count >= 1:\n",
    "    for j in range(count):\n",
    "         listoflist.pop(0)\n",
    "nd_min_mark = listoflist[0][0]\n",
    "for i in range(len(listoflist)):\n",
    "    if nd_min_mark == listoflist[i][0]:\n",
    "        print(listoflist[i][1])\n",
    "    "
   ]
  }
 ],
 "metadata": {
  "kernelspec": {
   "display_name": "Python 3",
   "language": "python",
   "name": "python3"
  },
  "language_info": {
   "codemirror_mode": {
    "name": "ipython",
    "version": 3
   },
   "file_extension": ".py",
   "mimetype": "text/x-python",
   "name": "python",
   "nbconvert_exporter": "python",
   "pygments_lexer": "ipython3",
   "version": "3.8.5"
  }
 },
 "nbformat": 4,
 "nbformat_minor": 4
}
