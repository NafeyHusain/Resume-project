{
 "cells": [
  {
   "cell_type": "code",
   "execution_count": 3,
   "metadata": {},
   "outputs": [
    {
     "name": "stdout",
     "output_type": "stream",
     "text": [
      "[[0.0 1.0 0.0 66051.52 182645.56 118148.2]\n",
      " [1.0 0.0 0.0 100671.96 91790.61 249744.55]\n",
      " [0.0 1.0 0.0 101913.08 110594.11 229160.95]\n",
      " [0.0 1.0 0.0 27892.92 84710.77 164470.71]\n",
      " [0.0 1.0 0.0 153441.51 101145.55 407934.54]\n",
      " [0.0 0.0 1.0 72107.6 127864.55 353183.81]\n",
      " [0.0 0.0 1.0 20229.59 65947.93 185265.1]\n",
      " [0.0 0.0 1.0 61136.38 152701.92 88218.23]\n",
      " [0.0 1.0 0.0 73994.56 122782.75 303319.26]\n",
      " [0.0 1.0 0.0 142107.34 91391.77 366168.42]]\n",
      "                       0\n",
      "103015.201598  103282.38\n",
      "132582.277608  144259.40\n",
      "132447.738452  146121.95\n",
      "71976.098513    77798.83\n",
      "178537.482211  191050.39\n",
      "116161.242302  105008.31\n",
      "67851.692097    81229.06\n",
      "98791.733747    97483.56\n",
      "113969.435330  110352.25\n",
      "167921.065696  166187.94\n",
      "[198674.75291554]\n",
      "83502864.03259295\n",
      "0.9347068473282303\n"
     ]
    }
   ],
   "source": [
    "import pandas as pd\n",
    "import numpy as np\n",
    "\n",
    "datasets=pd.read_csv(\"50_Startups_lyst7770.csv\")\n",
    "# print(datasets)\n",
    "\n",
    "X=datasets.iloc[:,:-1].values\n",
    "Y=datasets.iloc[:,4].values\n",
    "# #print(X)\n",
    "\n",
    "from sklearn.preprocessing import OneHotEncoder\n",
    "from sklearn.compose import make_column_transformer\n",
    "A=make_column_transformer((OneHotEncoder(categories=\"auto\"),[3]),remainder=\"passthrough\")\n",
    "\n",
    "X=A.fit_transform(X)\n",
    "# print(X)\n",
    "from sklearn.model_selection import train_test_split\n",
    "X_train,X_test,Y_train,Y_test= train_test_split(X,Y, test_size=0.20,random_state=0)\n",
    "\n",
    "\n",
    "\n",
    "\n",
    "from sklearn.linear_model import LinearRegression\n",
    "regressor=LinearRegression()\n",
    "regressor.fit(X_train,Y_train)\n",
    "\n",
    "y_pred= regressor.predict(X_test)\n",
    "print(X_test)\n",
    "print(pd.DataFrame(Y_test,y_pred))\n",
    "y_pred1=regressor.predict([[1.0,0.0,0.0,200000,10000,30000]])\n",
    "print(y_pred1)\n",
    "\n",
    "from sklearn.metrics import mean_squared_error\n",
    "print(mean_squared_error(Y_test,y_pred))\n",
    "\n",
    "print(regressor.score(X_test,Y_test))\n",
    "\n",
    "\n",
    "\n",
    "\n",
    "\n",
    "\n"
   ]
  }
 ],
 "metadata": {
  "kernelspec": {
   "display_name": "Python 3",
   "language": "python",
   "name": "python3"
  },
  "language_info": {
   "codemirror_mode": {
    "name": "ipython",
    "version": 3
   },
   "file_extension": ".py",
   "mimetype": "text/x-python",
   "name": "python",
   "nbconvert_exporter": "python",
   "pygments_lexer": "ipython3",
   "version": "3.8.5"
  }
 },
 "nbformat": 4,
 "nbformat_minor": 4
}
