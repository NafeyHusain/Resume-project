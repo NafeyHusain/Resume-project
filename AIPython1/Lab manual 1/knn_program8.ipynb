{
 "cells": [
  {
   "cell_type": "code",
   "execution_count": 2,
   "metadata": {},
   "outputs": [
    {
     "name": "stdout",
     "output_type": "stream",
     "text": [
      "TARGET= 2 virginica PREDICTED= [2] ['virginica']\n",
      "TARGET= 1 versicolor PREDICTED= [1] ['versicolor']\n",
      "TARGET= 0 setosa PREDICTED= [0] ['setosa']\n",
      "TARGET= 2 virginica PREDICTED= [2] ['virginica']\n",
      "TARGET= 0 setosa PREDICTED= [0] ['setosa']\n",
      "TARGET= 2 virginica PREDICTED= [2] ['virginica']\n",
      "TARGET= 0 setosa PREDICTED= [0] ['setosa']\n",
      "TARGET= 1 versicolor PREDICTED= [1] ['versicolor']\n",
      "TARGET= 1 versicolor PREDICTED= [1] ['versicolor']\n",
      "TARGET= 1 versicolor PREDICTED= [1] ['versicolor']\n",
      "TARGET= 2 virginica PREDICTED= [2] ['virginica']\n",
      "TARGET= 1 versicolor PREDICTED= [1] ['versicolor']\n",
      "TARGET= 1 versicolor PREDICTED= [1] ['versicolor']\n",
      "TARGET= 1 versicolor PREDICTED= [1] ['versicolor']\n",
      "TARGET= 1 versicolor PREDICTED= [1] ['versicolor']\n",
      "TARGET= 0 setosa PREDICTED= [0] ['setosa']\n",
      "TARGET= 1 versicolor PREDICTED= [1] ['versicolor']\n",
      "TARGET= 1 versicolor PREDICTED= [1] ['versicolor']\n",
      "TARGET= 0 setosa PREDICTED= [0] ['setosa']\n",
      "TARGET= 0 setosa PREDICTED= [0] ['setosa']\n",
      "TARGET= 2 virginica PREDICTED= [2] ['virginica']\n",
      "TARGET= 1 versicolor PREDICTED= [1] ['versicolor']\n",
      "TARGET= 0 setosa PREDICTED= [0] ['setosa']\n",
      "TARGET= 0 setosa PREDICTED= [0] ['setosa']\n",
      "TARGET= 2 virginica PREDICTED= [2] ['virginica']\n",
      "TARGET= 0 setosa PREDICTED= [0] ['setosa']\n",
      "TARGET= 0 setosa PREDICTED= [0] ['setosa']\n",
      "TARGET= 1 versicolor PREDICTED= [1] ['versicolor']\n",
      "TARGET= 1 versicolor PREDICTED= [1] ['versicolor']\n",
      "TARGET= 0 setosa PREDICTED= [0] ['setosa']\n",
      "TARGET= 2 virginica PREDICTED= [2] ['virginica']\n",
      "TARGET= 1 versicolor PREDICTED= [1] ['versicolor']\n",
      "TARGET= 0 setosa PREDICTED= [0] ['setosa']\n",
      "TARGET= 2 virginica PREDICTED= [2] ['virginica']\n",
      "TARGET= 2 virginica PREDICTED= [2] ['virginica']\n",
      "TARGET= 1 versicolor PREDICTED= [1] ['versicolor']\n",
      "TARGET= 0 setosa PREDICTED= [0] ['setosa']\n",
      "TARGET= 1 versicolor PREDICTED= [2] ['virginica']\n",
      "0.9736842105263158\n"
     ]
    }
   ],
   "source": [
    "from sklearn.datasets import load_iris\n",
    "from sklearn.neighbors import KNeighborsClassifier\n",
    "from sklearn.model_selection import train_test_split\n",
    "import numpy as np\n",
    "\n",
    "dataset=load_iris()\n",
    "#print(dataset)\n",
    "X_train,X_test,y_train,y_test=train_test_split(dataset[\"data\"],dataset[\"target\"],random_state=0)\n",
    "\n",
    "kn=KNeighborsClassifier(n_neighbors=1)\n",
    "kn.fit(X_train,y_train)\n",
    "\n",
    "for i in range(len(X_test)):\n",
    "    x=X_test[i]\n",
    "    x_new=np.array([x])\n",
    "    prediction=kn.predict(x_new)\n",
    "    print(\"TARGET=\",y_test[i],dataset[\"target_names\"][y_test[i]],\"PREDICTED=\",prediction,dataset[\"target_names\"][prediction])\n",
    "print(kn.score(X_test,y_test))"
   ]
  },
  {
   "cell_type": "code",
   "execution_count": 3,
   "metadata": {},
   "outputs": [
    {
     "name": "stdout",
     "output_type": "stream",
     "text": [
      "Class : number\n",
      "setosa : 0\n",
      "versicolor : 1\n",
      "virginica : 2\n",
      "Actual:[0] [setosa],Predicted:[0] ['setosa']\n",
      "Actual:[2] [virginica],Predicted:[2] ['virginica']\n",
      "Actual:[0] [setosa],Predicted:[0] ['setosa']\n",
      "Actual:[0] [setosa],Predicted:[0] ['setosa']\n",
      "Actual:[0] [setosa],Predicted:[0] ['setosa']\n",
      "Actual:[2] [virginica],Predicted:[2] ['virginica']\n",
      "Actual:[2] [virginica],Predicted:[2] ['virginica']\n",
      "Actual:[2] [virginica],Predicted:[2] ['virginica']\n",
      "Actual:[2] [virginica],Predicted:[2] ['virginica']\n",
      "Actual:[1] [versicolor],Predicted:[1] ['versicolor']\n",
      "Actual:[0] [setosa],Predicted:[0] ['setosa']\n",
      "Actual:[0] [setosa],Predicted:[0] ['setosa']\n",
      "Actual:[2] [virginica],Predicted:[2] ['virginica']\n",
      "Actual:[0] [setosa],Predicted:[0] ['setosa']\n",
      "Actual:[2] [virginica],Predicted:[2] ['virginica']\n",
      "Actual:[1] [versicolor],Predicted:[1] ['versicolor']\n",
      "Actual:[1] [versicolor],Predicted:[1] ['versicolor']\n",
      "Actual:[1] [versicolor],Predicted:[1] ['versicolor']\n",
      "Actual:[1] [versicolor],Predicted:[1] ['versicolor']\n",
      "Actual:[1] [versicolor],Predicted:[1] ['versicolor']\n",
      "Actual:[2] [virginica],Predicted:[2] ['virginica']\n",
      "Actual:[0] [setosa],Predicted:[0] ['setosa']\n",
      "Actual:[1] [versicolor],Predicted:[1] ['versicolor']\n",
      "Actual:[1] [versicolor],Predicted:[1] ['versicolor']\n",
      "Actual:[1] [versicolor],Predicted:[1] ['versicolor']\n",
      "Actual:[1] [versicolor],Predicted:[1] ['versicolor']\n",
      "Actual:[0] [setosa],Predicted:[0] ['setosa']\n",
      "Actual:[1] [versicolor],Predicted:[1] ['versicolor']\n",
      "Actual:[0] [setosa],Predicted:[0] ['setosa']\n",
      "Actual:[0] [setosa],Predicted:[0] ['setosa']\n",
      "Actual:[0] [setosa],Predicted:[0] ['setosa']\n",
      "Actual:[0] [setosa],Predicted:[0] ['setosa']\n",
      "Actual:[2] [virginica],Predicted:[2] ['virginica']\n",
      "Actual:[1] [versicolor],Predicted:[1] ['versicolor']\n",
      "Actual:[2] [virginica],Predicted:[2] ['virginica']\n",
      "Actual:[1] [versicolor],Predicted:[1] ['versicolor']\n",
      "Actual:[1] [versicolor],Predicted:[1] ['versicolor']\n",
      "Actual:[1] [versicolor],Predicted:[1] ['versicolor']\n",
      "\n",
      "Accuracy: 1.0\n"
     ]
    }
   ],
   "source": [
    "from sklearn.datasets import load_iris\n",
    "from sklearn.neighbors import KNeighborsClassifier\n",
    "import numpy as np\n",
    "from sklearn.model_selection import train_test_split\n",
    "iris_dataset = load_iris()\n",
    "\n",
    "#print(iris_dataset)\n",
    "targets = iris_dataset.target_names\n",
    "print(\"Class : number\")\n",
    "for i in range(len(targets)):\n",
    "    print(targets[i], ':', i)\n",
    "X_train, X_test, y_train, y_test = train_test_split(iris_dataset[\"data\"], iris_dataset[\"target\"])\n",
    "kn = KNeighborsClassifier(1)\n",
    "kn.fit(X_train, y_train)\n",
    "for i in range(len(X_test)):\n",
    "    x_new = np.array([X_test[i]])\n",
    "    prediction = kn.predict(x_new)\n",
    "    print(\"Actual:[{0}] [{1}],Predicted:{2} {3}\".format(y_test[i], targets[y_test[i]], prediction,\n",
    "targets[prediction]))\n",
    "print(\"\\nAccuracy:\",kn.score(X_test,y_test))\n"
   ]
  },
  {
   "cell_type": "code",
   "execution_count": 1,
   "metadata": {},
   "outputs": [
    {
     "name": "stdout",
     "output_type": "stream",
     "text": [
      "Class : number\n",
      "setosa : 0\n",
      "versicolor : 1\n",
      "virginica : 2\n"
     ]
    }
   ],
   "source": [
    "from sklearn.datasets import load_iris\n",
    "from sklearn.neighbors import KNeighborsClassifier\n",
    "import numpy as np\n",
    "from sklearn.model_selection import train_test_split\n",
    "iris_dataset = load_iris()\n",
    "\n",
    "#print(iris_dataset)\n",
    "targets = iris_dataset.target_names\n",
    "print(\"Class : number\")\n",
    "for i in range(len(targets)):\n",
    "    print(targets[i], ':', i)"
   ]
  },
  {
   "cell_type": "code",
   "execution_count": 3,
   "metadata": {},
   "outputs": [
    {
     "name": "stdout",
     "output_type": "stream",
     "text": [
      "setosa : 0\n",
      "versicolor : 1\n",
      "virginica : 2\n"
     ]
    },
    {
     "data": {
      "text/plain": [
       "KNeighborsClassifier(n_neighbors=1)"
      ]
     },
     "execution_count": 3,
     "metadata": {},
     "output_type": "execute_result"
    }
   ],
   "source": [
    "from sklearn import datasets\n",
    "from sklearn.neighbors import KNeighborsClassifier\n",
    "import numpy as np\n",
    "from sklearn.model_selection import train_test_split\n",
    "\n",
    "iris=datasets.load_iris()\n",
    "targets=iris.target_names\n",
    "for i in range(len(targets)):\n",
    "    print(targets[i],\":\",i)\n",
    "X_train, X_test, y_train, y_test = train_test_split(iris[\"data\"], iris[\"target\"])\n",
    "kn = KNeighborsClassifier(1)\n",
    "kn.fit(X_train, y_train)\n"
   ]
  }
 ],
 "metadata": {
  "kernelspec": {
   "display_name": "Python 3",
   "language": "python",
   "name": "python3"
  },
  "language_info": {
   "codemirror_mode": {
    "name": "ipython",
    "version": 3
   },
   "file_extension": ".py",
   "mimetype": "text/x-python",
   "name": "python",
   "nbconvert_exporter": "python",
   "pygments_lexer": "ipython3",
   "version": "3.8.5"
  }
 },
 "nbformat": 4,
 "nbformat_minor": 4
}
